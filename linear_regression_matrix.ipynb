{
 "cells": [
  {
   "cell_type": "code",
   "execution_count": 1,
   "metadata": {},
   "outputs": [
    {
     "name": "stdout",
     "output_type": "stream",
     "text": [
      "[[1.  1.  1.  1.  1.  1.  1. ]\n",
      " [4.  4.5 5.  5.5 6.  6.5 7. ]]\n",
      "[[1.  4. ]\n",
      " [1.  4.5]\n",
      " [1.  5. ]\n",
      " [1.  5.5]\n",
      " [1.  6. ]\n",
      " [1.  6.5]\n",
      " [1.  7. ]]\n",
      "[[  7.    38.5 ]\n",
      " [ 38.5  218.75]]\n",
      "[[ 4.46428571 -0.78571429]\n",
      " [-0.78571429  0.14285714]]\n",
      "[33 42 45 51 53 61 62]\n",
      "[[33]\n",
      " [42]\n",
      " [45]\n",
      " [51]\n",
      " [53]\n",
      " [61]\n",
      " [62]]\n",
      "[[ 347.]\n",
      " [1975.]]\n",
      "[[-2.67857143]\n",
      " [ 9.5       ]]\n"
     ]
    }
   ],
   "source": [
    "# ref:\n",
    "# https://onlinecourses.science.psu.edu/stat501/node/382/\n",
    "\n",
    "import numpy as np\n",
    "from numpy.linalg import inv\n",
    "    \n",
    "x0 = [4.0,4.5,5.0,5.5,6.0,6.5,7.0]\n",
    "x = np.array([np.repeat(1, len(x0)), x0])\n",
    "print (x)\n",
    "print(x.T)\n",
    "xx = np.matmul(x,x.T)\n",
    "print(xx)\n",
    "xx_i = inv(xx)\n",
    "print(xx_i)\n",
    "\n",
    "y = np.array([33,42,45,51,53,61,62])\n",
    "print(y)\n",
    "y_r = y.reshape((len(y),-1))\n",
    "print(y_r)\n",
    "xy = np.matmul(x, y_r)\n",
    "print(xy)\n",
    "\n",
    "ab = np.matmul(xx_i,xy)\n",
    "print(ab)"
   ]
  },
  {
   "cell_type": "code",
   "execution_count": null,
   "metadata": {},
   "outputs": [],
   "source": []
  }
 ],
 "metadata": {
  "kernelspec": {
   "display_name": "Python 3",
   "language": "python",
   "name": "python3"
  },
  "language_info": {
   "codemirror_mode": {
    "name": "ipython",
    "version": 3
   },
   "file_extension": ".py",
   "mimetype": "text/x-python",
   "name": "python",
   "nbconvert_exporter": "python",
   "pygments_lexer": "ipython3",
   "version": "3.6.6"
  }
 },
 "nbformat": 4,
 "nbformat_minor": 2
}
