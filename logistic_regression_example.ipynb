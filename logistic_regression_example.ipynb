{
 "cells": [
  {
   "cell_type": "code",
   "execution_count": 5,
   "metadata": {},
   "outputs": [
    {
     "name": "stdout",
     "output_type": "stream",
     "text": [
      "[[1.  1.  1.  1.  1.  1.  1. ]\n",
      " [4.  4.5 5.  5.5 6.  6.5 7. ]]\n",
      "[[1.  4. ]\n",
      " [1.  4.5]\n",
      " [1.  5. ]\n",
      " [1.  5.5]\n",
      " [1.  6. ]\n",
      " [1.  6.5]\n",
      " [1.  7. ]]\n",
      "[[  7.    38.5 ]\n",
      " [ 38.5  218.75]]\n",
      "[[ 4.46428571 -0.78571429]\n",
      " [-0.78571429  0.14285714]]\n",
      "[33 42 45 51 53 61 62]\n",
      "[[33]\n",
      " [42]\n",
      " [45]\n",
      " [51]\n",
      " [53]\n",
      " [61]\n",
      " [62]]\n"
     ]
    },
    {
     "ename": "ValueError",
     "evalue": "shapes (7,2) and (7,) not aligned: 2 (dim 1) != 7 (dim 0)",
     "output_type": "error",
     "traceback": [
      "\u001b[0;31m---------------------------------------------------------------------------\u001b[0m",
      "\u001b[0;31mValueError\u001b[0m                                Traceback (most recent call last)",
      "\u001b[0;32m<ipython-input-5-c9c096755781>\u001b[0m in \u001b[0;36m<module>\u001b[0;34m()\u001b[0m\n\u001b[1;32m     15\u001b[0m \u001b[0my_r\u001b[0m \u001b[0;34m=\u001b[0m \u001b[0my\u001b[0m\u001b[0;34m.\u001b[0m\u001b[0mreshape\u001b[0m\u001b[0;34m(\u001b[0m\u001b[0;34m(\u001b[0m\u001b[0mlen\u001b[0m\u001b[0;34m(\u001b[0m\u001b[0my\u001b[0m\u001b[0;34m)\u001b[0m\u001b[0;34m,\u001b[0m\u001b[0;34m-\u001b[0m\u001b[0;36m1\u001b[0m\u001b[0;34m)\u001b[0m\u001b[0;34m)\u001b[0m\u001b[0;34m\u001b[0m\u001b[0m\n\u001b[1;32m     16\u001b[0m \u001b[0mprint\u001b[0m\u001b[0;34m(\u001b[0m\u001b[0my_r\u001b[0m\u001b[0;34m)\u001b[0m\u001b[0;34m\u001b[0m\u001b[0m\n\u001b[0;32m---> 17\u001b[0;31m \u001b[0mxy\u001b[0m \u001b[0;34m=\u001b[0m \u001b[0mnp\u001b[0m\u001b[0;34m.\u001b[0m\u001b[0mmatmul\u001b[0m\u001b[0;34m(\u001b[0m\u001b[0mx\u001b[0m\u001b[0;34m.\u001b[0m\u001b[0mT\u001b[0m\u001b[0;34m,\u001b[0m \u001b[0my\u001b[0m\u001b[0;34m.\u001b[0m\u001b[0mT\u001b[0m\u001b[0;34m)\u001b[0m\u001b[0;34m\u001b[0m\u001b[0m\n\u001b[0m\u001b[1;32m     18\u001b[0m \u001b[0mprint\u001b[0m\u001b[0;34m(\u001b[0m\u001b[0mxy\u001b[0m\u001b[0;34m)\u001b[0m\u001b[0;34m\u001b[0m\u001b[0m\n\u001b[1;32m     19\u001b[0m \u001b[0;34m\u001b[0m\u001b[0m\n",
      "\u001b[0;31mValueError\u001b[0m: shapes (7,2) and (7,) not aligned: 2 (dim 1) != 7 (dim 0)"
     ]
    }
   ],
   "source": [
    "import numpy as np\n",
    "from numpy.linalg import inv\n",
    "    \n",
    "x0 = [4.0,4.5,5.0,5.5,6.0,6.5,7.0]\n",
    "x = np.array([np.repeat(1, len(x0)), x0])\n",
    "print (x)\n",
    "print(x.T)\n",
    "xx = np.matmul(x,x.T)\n",
    "print(xx)\n",
    "xx_i = inv(xx)\n",
    "print(xx_i)\n",
    "\n",
    "y = np.array([33,42,45,51,53,61,62])\n",
    "print(y)\n",
    "y_r = y.reshape((len(y),-1))\n",
    "print(y_r)\n",
    "xy = np.matmul(x.T, y.T)\n",
    "print(xy)\n",
    "\n",
    "#print(np.matmul(inv(x)))"
   ]
  },
  {
   "cell_type": "code",
   "execution_count": null,
   "metadata": {},
   "outputs": [],
   "source": []
  }
 ],
 "metadata": {
  "kernelspec": {
   "display_name": "Python 3",
   "language": "python",
   "name": "python3"
  },
  "language_info": {
   "codemirror_mode": {
    "name": "ipython",
    "version": 3
   },
   "file_extension": ".py",
   "mimetype": "text/x-python",
   "name": "python",
   "nbconvert_exporter": "python",
   "pygments_lexer": "ipython3",
   "version": "3.6.6"
  }
 },
 "nbformat": 4,
 "nbformat_minor": 2
}
