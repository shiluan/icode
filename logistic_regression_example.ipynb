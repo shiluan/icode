{
 "cells": [
  {
   "cell_type": "markdown",
   "metadata": {},
   "source": [
    "# An Logistic Regression Example\n",
    "\n",
    "**References**\n",
    "1. [data from:](https://en.wikipedia.org/wiki/Logistic_regression)\n",
    "2. [also refer:](https://towardsdatascience.com/building-a-logistic-regression-in-python-step-by-step-becd4d56c9c8)"
   ]
  },
  {
   "cell_type": "code",
   "execution_count": 12,
   "metadata": {},
   "outputs": [
    {
     "name": "stdout",
     "output_type": "stream",
     "text": [
      "[[0.61126347]]\n"
     ]
    },
    {
     "data": {
      "image/png": "[encoded data removed]",
      "text/plain": [
       "<Figure size 432x288 with 1 Axes>"
      ]
     },
     "metadata": {
      "needs_background": "light"
     },
     "output_type": "display_data"
    }
   ],
   "source": [
    "x=[0.50,0.75,1.00,1.25,1.50,1.75,1.75,2.00,2.25,2.50,2.75,3.00,3.25,3.50,4.00,4.25,4.50,4.75,5.00,5.50]\n",
    "y=[0,0,0,0,0,0,1,0,1,0,1,0,1,0,1,1,1,1,1,1]\n",
    "\n",
    "import pandas as pd\n",
    "import numpy as np\n",
    "d={'hours':x, 'pass':y}\n",
    "df = pd.DataFrame(d)\n",
    "\n",
    "\n",
    "from sklearn.linear_model import LogisticRegression\n",
    "\n",
    "\n",
    "Xx=np.array(df[('hours')])\n",
    "Yy=df['pass']\n",
    "\n",
    "Xx\n",
    "Xx2 = np.reshape(Xx,(-1, 1))\n",
    "Xx2\n",
    "\n",
    "\n",
    "import matplotlib.pyplot as plt\n",
    "lgr = LogisticRegression()\n",
    "lgr.fit(Xx2, Yy)\n",
    "\n",
    "\n",
    "#plt.scatter(Xx2,Yy)\n",
    "\n",
    "#plt.scatter(Xx2,lgr.predict(Xx2))\n",
    "\n",
    "#plt.xlim(-10,  10)\n",
    "plt.scatter(Xx2,lgr.predict_proba(Xx2)[:,1])\n",
    "\n"
   ]
  },
  {
   "cell_type": "code",
   "execution_count": 16,
   "metadata": {},
   "outputs": [
    {
     "name": "stdout",
     "output_type": "stream",
     "text": [
      "[array([[0.61126347]]), array([-1.36550178]), array([4], dtype=int32)]\n"
     ]
    }
   ],
   "source": [
    "print([lgr.coef_, lgr.intercept_, lgr.n_iter_])"
   ]
  },
  {
   "cell_type": "code",
   "execution_count": 17,
   "metadata": {},
   "outputs": [
    {
     "name": "stdout",
     "output_type": "stream",
     "text": [
      "[4]\n"
     ]
    }
   ],
   "source": [
    "print(lgr.n_iter_)"
   ]
  },
  {
   "cell_type": "code",
   "execution_count": 23,
   "metadata": {},
   "outputs": [
    {
     "data": {
      "text/plain": [
       "[<matplotlib.lines.Line2D at 0x7f60ecdb89e8>]"
      ]
     },
     "execution_count": 23,
     "metadata": {},
     "output_type": "execute_result"
    },
    {
     "data": {
      "image/png": "[encoded data removed]",
      "text/plain": [
       "<Figure size 432x288 with 1 Axes>"
      ]
     },
     "metadata": {
      "needs_background": "light"
     },
     "output_type": "display_data"
    }
   ],
   "source": [
    "\n",
    "import math\n",
    "def snorm(x):\n",
    "    t = 0.61126347*x - 1.36550178  \n",
    "    y = 1 / (1+math.e**(-1*t))\n",
    "    return y\n",
    "\n",
    "x = np.arange(0, 5, 0.1);\n",
    "plt.plot(x, snorm(x))"
   ]
  },
  {
   "cell_type": "code",
   "execution_count": null,
   "metadata": {},
   "outputs": [],
   "source": []
  }
 ],
 "metadata": {
  "kernelspec": {
   "display_name": "Python 3",
   "language": "python",
   "name": "python3"
  },
  "language_info": {
   "codemirror_mode": {
    "name": "ipython",
    "version": 3
   },
   "file_extension": ".py",
   "mimetype": "text/x-python",
   "name": "python",
   "nbconvert_exporter": "python",
   "pygments_lexer": "ipython3",
   "version": "3.6.6"
  }
 },
 "nbformat": 4,
 "nbformat_minor": 2
}
